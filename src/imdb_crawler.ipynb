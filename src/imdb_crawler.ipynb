{
 "cells": [
  {
   "cell_type": "code",
   "execution_count": 1,
   "id": "9a74411e",
   "metadata": {},
   "outputs": [],
   "source": [
    "from requests import get\n",
    "from bs4 import BeautifulSoup\n",
    "from warnings import warn\n",
    "from time import sleep\n",
    "from random import randint\n",
    "import numpy as np, pandas as pd"
   ]
  },
  {
   "cell_type": "code",
   "execution_count": 6,
   "id": "7b4ab98a",
   "metadata": {},
   "outputs": [],
   "source": [
    "# initialize empty lists to store the variables scraped\n",
    "titles = []\n",
    "genres = []\n",
    "plot = []"
   ]
  },
  {
   "cell_type": "code",
   "execution_count": 41,
   "id": "1e09b461",
   "metadata": {},
   "outputs": [],
   "source": [
    "def crawl(genre_str):\n",
    "    pages = np.arange(1, 5051, 50)  # can only go to 10000 items\n",
    "    for page in pages:\n",
    "        # get request\n",
    "        response = get(\"https://www.imdb.com/search/title?genres=\"\n",
    "                       + genre_str\n",
    "                       + \"&\"\n",
    "                       + \"start=\"\n",
    "                       + str(page)\n",
    "                       + \"&explore=title_type,genres&ref_=adv_prv\")\n",
    "\n",
    "        sleep(randint(3, 6))\n",
    "\n",
    "        # throw warning for status codes that are not 200\n",
    "        if response.status_code != 200:\n",
    "            warn('Request: {}; Status code: {}'.format(response, response.status_code))\n",
    "\n",
    "        # parse the content of current iteration of request\n",
    "        page_html = BeautifulSoup(response.text, 'html.parser')\n",
    "\n",
    "        movie_containers = page_html.find_all('div', class_='lister-item mode-advanced')\n",
    "\n",
    "        # extract the 50 movies for that page\n",
    "        for container in movie_containers:\n",
    "            # title\n",
    "            try:\n",
    "                title = container.h3.a.text\n",
    "            except AttributeError:\n",
    "                title = '-'\n",
    "            if title in titles:\n",
    "                continue\n",
    "\n",
    "            titles.append(title)\n",
    "\n",
    "            # genre\n",
    "            try:\n",
    "                genre = container.p.find('span', class_='genre').text\n",
    "            except AttributeError:\n",
    "                genre = '-'\n",
    "            genres.append(genre)\n",
    "\n",
    "            # plot\n",
    "            try:\n",
    "                m_score = container.find_all('p', class_='text-muted')\n",
    "                plot.append(m_score[1].text)\n",
    "            except:\n",
    "                plot.append('-')"
   ]
  },
  {
   "cell_type": "markdown",
   "id": "2b58099b",
   "metadata": {},
   "source": [
    "# Crawling Action Movies"
   ]
  },
  {
   "cell_type": "code",
   "execution_count": 8,
   "id": "5e1c8691",
   "metadata": {},
   "outputs": [],
   "source": [
    "crawl(\"action\")"
   ]
  },
  {
   "cell_type": "markdown",
   "id": "a9e0627a",
   "metadata": {},
   "source": [
    "# Crawling Sci-Fi Movies"
   ]
  },
  {
   "cell_type": "code",
   "execution_count": 9,
   "id": "0a53914b",
   "metadata": {},
   "outputs": [],
   "source": [
    "crawl(\"sci-fi\")"
   ]
  },
  {
   "cell_type": "markdown",
   "id": "84a861c3",
   "metadata": {},
   "source": [
    "# Crawling Comedy Movies"
   ]
  },
  {
   "cell_type": "code",
   "execution_count": 10,
   "id": "128146f8",
   "metadata": {},
   "outputs": [],
   "source": [
    "crawl(\"comedy\")"
   ]
  },
  {
   "cell_type": "markdown",
   "id": "a593ab0f",
   "metadata": {},
   "source": [
    "# Crawling Horror Movies"
   ]
  },
  {
   "cell_type": "code",
   "execution_count": 11,
   "id": "477f62b1",
   "metadata": {},
   "outputs": [],
   "source": [
    "crawl(\"horror\")"
   ]
  },
  {
   "cell_type": "markdown",
   "id": "c3dc4272",
   "metadata": {},
   "source": [
    "# Crawling Drama Movies"
   ]
  },
  {
   "cell_type": "code",
   "execution_count": 14,
   "id": "cfe393e9",
   "metadata": {},
   "outputs": [],
   "source": [
    "crawl(\"drama\")"
   ]
  },
  {
   "cell_type": "markdown",
   "id": "75910567",
   "metadata": {},
   "source": [
    "# Crawling Animation Movies"
   ]
  },
  {
   "cell_type": "code",
   "execution_count": 16,
   "id": "1c346aab",
   "metadata": {},
   "outputs": [],
   "source": [
    "crawl(\"animation\")"
   ]
  },
  {
   "cell_type": "markdown",
   "id": "5b708143",
   "metadata": {},
   "source": [
    "# Crawling Mystery Movies"
   ]
  },
  {
   "cell_type": "code",
   "execution_count": 17,
   "id": "9447fe8b",
   "metadata": {},
   "outputs": [],
   "source": [
    "crawl(\"mystery\")"
   ]
  },
  {
   "cell_type": "markdown",
   "id": "26b49f7d",
   "metadata": {},
   "source": [
    "# Crawling Crime Movies"
   ]
  },
  {
   "cell_type": "code",
   "execution_count": 19,
   "id": "e6644046",
   "metadata": {},
   "outputs": [],
   "source": [
    "crawl(\"crime\")"
   ]
  },
  {
   "cell_type": "markdown",
   "id": "a7418f74",
   "metadata": {},
   "source": [
    "# Crawling Fantasy Movies"
   ]
  },
  {
   "cell_type": "code",
   "execution_count": 21,
   "id": "0fe06aa9",
   "metadata": {},
   "outputs": [],
   "source": [
    "crawl(\"fantasy\")"
   ]
  },
  {
   "cell_type": "markdown",
   "id": "ee59955b",
   "metadata": {},
   "source": [
    "# Crawling Thriller Movies"
   ]
  },
  {
   "cell_type": "code",
   "execution_count": 23,
   "id": "0268da20",
   "metadata": {},
   "outputs": [],
   "source": [
    "crawl(\"thriller\")"
   ]
  },
  {
   "cell_type": "markdown",
   "id": "96a113f3",
   "metadata": {},
   "source": [
    "# Crawling Romance Movies"
   ]
  },
  {
   "cell_type": "code",
   "execution_count": 25,
   "id": "f31ebfae",
   "metadata": {},
   "outputs": [],
   "source": [
    "crawl(\"romance\")"
   ]
  },
  {
   "cell_type": "markdown",
   "id": "ecb0a38e",
   "metadata": {},
   "source": [
    "# Crawling Adventure Movies"
   ]
  },
  {
   "cell_type": "code",
   "execution_count": 32,
   "id": "c677fbdd",
   "metadata": {},
   "outputs": [],
   "source": [
    "crawl(\"adventure\")"
   ]
  },
  {
   "cell_type": "markdown",
   "id": "82c21ce1",
   "metadata": {},
   "source": [
    "# Crawling Superhero Movies"
   ]
  },
  {
   "cell_type": "code",
   "execution_count": 33,
   "id": "56770fe8",
   "metadata": {},
   "outputs": [],
   "source": [
    "crawl(\"superhero\")"
   ]
  },
  {
   "cell_type": "markdown",
   "id": "25b82c4a",
   "metadata": {},
   "source": [
    "# Crawling Biography Movies"
   ]
  },
  {
   "cell_type": "code",
   "execution_count": 50,
   "id": "a9c2d7d8",
   "metadata": {},
   "outputs": [],
   "source": [
    "crawl(\"biography\")"
   ]
  },
  {
   "cell_type": "markdown",
   "id": "6eff006b",
   "metadata": {},
   "source": [
    "# Create CSV"
   ]
  },
  {
   "cell_type": "code",
   "execution_count": 53,
   "id": "b3e3a2a5",
   "metadata": {},
   "outputs": [],
   "source": [
    "df = pd.DataFrame({'movie': titles,\n",
    "                    'genre': genres,\n",
    "                    'plot': plot,\n",
    "                    })"
   ]
  },
  {
   "cell_type": "code",
   "execution_count": 54,
   "id": "b9a5d5a3",
   "metadata": {},
   "outputs": [],
   "source": [
    "# remove the \"\\n\" at the beginning of the genres\n",
    "df['genre'] = df['genre'].apply(lambda x: x.replace(\"\\n\", \"\"))\n",
    "\n",
    "# remove the \"\\n\" at the beginning of the plots\n",
    "df['plot'] = df['plot'].apply(lambda x: x.replace(\"\\n\", \"\"))\n",
    "\n",
    "# I found that there was whitespace in the arrays of genres so I removed that with .rstrip()\n",
    "df['genre'] = df['genre'].apply(lambda x: x.rstrip())\n",
    "\n",
    "# split the string list into an actual array of values to do NLP on later\n",
    "df['genre'] = df['genre'].str.split(\",\")"
   ]
  },
  {
   "cell_type": "code",
   "execution_count": 57,
   "id": "a06689e0",
   "metadata": {},
   "outputs": [],
   "source": [
    "# write the final dataframe to the working directory\n",
    "df.to_csv(\"../data/raw/raw_data_v2.csv\", index=False)"
   ]
  },
  {
   "cell_type": "code",
   "execution_count": 58,
   "id": "b5eee8a7",
   "metadata": {},
   "outputs": [
    {
     "name": "stdout",
     "output_type": "stream",
     "text": [
      "31163\n"
     ]
    }
   ],
   "source": [
    "print(len(titles))"
   ]
  },
  {
   "cell_type": "code",
   "execution_count": null,
   "id": "00c8691c",
   "metadata": {},
   "outputs": [],
   "source": []
  }
 ],
 "metadata": {
  "kernelspec": {
   "display_name": "Python 3",
   "language": "python",
   "name": "python3"
  },
  "language_info": {
   "codemirror_mode": {
    "name": "ipython",
    "version": 3
   },
   "file_extension": ".py",
   "mimetype": "text/x-python",
   "name": "python",
   "nbconvert_exporter": "python",
   "pygments_lexer": "ipython3",
   "version": "3.6.4"
  }
 },
 "nbformat": 4,
 "nbformat_minor": 5
}
