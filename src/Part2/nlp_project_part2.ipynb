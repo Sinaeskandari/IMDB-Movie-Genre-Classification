{
  "cells": [
    {
      "cell_type": "code",
      "execution_count": null,
      "metadata": {
        "id": "NvR7N_miwjCx"
      },
      "outputs": [],
      "source": [
        "from tensorflow.keras import layers\n",
        "from tensorflow import keras\n",
        "import tensorflow as tf\n",
        "from keras.models import Sequential\n",
        "\n",
        "from sklearn.model_selection import train_test_split\n",
        "\n",
        "import matplotlib.pyplot as plt\n",
        "import pandas as pd\n",
        "import numpy as np"
      ]
    },
    {
      "cell_type": "code",
      "execution_count": null,
      "metadata": {
        "colab": {
          "base_uri": "https://localhost:8080/"
        },
        "id": "nzhlyZkVg9At",
        "outputId": "a6959a3b-8818-424f-b6bc-c86dd81521ed"
      },
      "outputs": [
        {
          "name": "stdout",
          "output_type": "stream",
          "text": [
            "Mounted at /content/drive\n"
          ]
        }
      ],
      "source": [
        "from google.colab import drive\n",
        "drive.mount('/content/drive')"
      ]
    },
    {
      "cell_type": "code",
      "execution_count": null,
      "metadata": {
        "colab": {
          "base_uri": "https://localhost:8080/",
          "height": 641
        },
        "id": "Gp7lSW36w-wU",
        "outputId": "728c890b-ddeb-4e29-90f9-6c3caf616bac"
      },
      "outputs": [
        {
          "data": {
            "text/html": [
              "\n",
              "  <div id=\"df-113b4523-4081-4a98-82c7-6dd15db27737\">\n",
              "    <div class=\"colab-df-container\">\n",
              "      <div>\n",
              "<style scoped>\n",
              "    .dataframe tbody tr th:only-of-type {\n",
              "        vertical-align: middle;\n",
              "    }\n",
              "\n",
              "    .dataframe tbody tr th {\n",
              "        vertical-align: top;\n",
              "    }\n",
              "\n",
              "    .dataframe thead th {\n",
              "        text-align: right;\n",
              "    }\n",
              "</style>\n",
              "<table border=\"1\" class=\"dataframe\">\n",
              "  <thead>\n",
              "    <tr style=\"text-align: right;\">\n",
              "      <th></th>\n",
              "      <th>movie</th>\n",
              "      <th>genre</th>\n",
              "      <th>plot</th>\n",
              "      <th>preprocessed_plot</th>\n",
              "    </tr>\n",
              "  </thead>\n",
              "  <tbody>\n",
              "    <tr>\n",
              "      <th>0</th>\n",
              "      <td>Doctor Strange in the Multiverse of Madness</td>\n",
              "      <td>Action,Adventure,Fantasy</td>\n",
              "      <td>Doctor Strange teams up with a mysterious teen...</td>\n",
              "      <td>doctor strange team mysterious teenage girl dr...</td>\n",
              "    </tr>\n",
              "    <tr>\n",
              "      <th>1</th>\n",
              "      <td>Avatar: The Way of Water</td>\n",
              "      <td>Action,Adventure,Sci-Fi</td>\n",
              "      <td>Jake Sully lives with his newfound family form...</td>\n",
              "      <td>jake sully life newfound family formed planet ...</td>\n",
              "    </tr>\n",
              "    <tr>\n",
              "      <th>2</th>\n",
              "      <td>The Northman</td>\n",
              "      <td>Action,Adventure,Drama</td>\n",
              "      <td>From visionary director Robert Eggers comes Th...</td>\n",
              "      <td>visionary director robert egger come northman ...</td>\n",
              "    </tr>\n",
              "    <tr>\n",
              "      <th>3</th>\n",
              "      <td>Moon Knight</td>\n",
              "      <td>Action,Adventure,Fantasy</td>\n",
              "      <td>Steven Grant discovers he's been granted the p...</td>\n",
              "      <td>steven grant discovers granted power egyptian ...</td>\n",
              "    </tr>\n",
              "    <tr>\n",
              "      <th>4</th>\n",
              "      <td>The Batman</td>\n",
              "      <td>Action,Crime,Drama</td>\n",
              "      <td>When a sadistic serial killer begins murdering...</td>\n",
              "      <td>sadistic serial killer begin murdering key pol...</td>\n",
              "    </tr>\n",
              "    <tr>\n",
              "      <th>...</th>\n",
              "      <td>...</td>\n",
              "      <td>...</td>\n",
              "      <td>...</td>\n",
              "      <td>...</td>\n",
              "    </tr>\n",
              "    <tr>\n",
              "      <th>31158</th>\n",
              "      <td>La vie et la passion de Jésus Christ</td>\n",
              "      <td>Short,Biography,Drama</td>\n",
              "      <td>The story of Jesus Christ from the proclamatio...</td>\n",
              "      <td>story jesus christ proclamation nativity cruci...</td>\n",
              "    </tr>\n",
              "    <tr>\n",
              "      <th>31159</th>\n",
              "      <td>Life of the Party: The Story of Beatrice</td>\n",
              "      <td>Biography,Drama</td>\n",
              "      <td>This made-for-television movie is a dramatizat...</td>\n",
              "      <td>made television movie dramatization life found...</td>\n",
              "    </tr>\n",
              "    <tr>\n",
              "      <th>31160</th>\n",
              "      <td>Adventures in Rock</td>\n",
              "      <td>Documentary,Biography,Music</td>\n",
              "      <td>This Canadian documentary follows the journey ...</td>\n",
              "      <td>canadian documentary follows journey toronto b...</td>\n",
              "    </tr>\n",
              "    <tr>\n",
              "      <th>31161</th>\n",
              "      <td>The Girl in White</td>\n",
              "      <td>Biography,Drama</td>\n",
              "      <td>A young woman decides to become a doctor at a ...</td>\n",
              "      <td>young woman decides become doctor time woman m...</td>\n",
              "    </tr>\n",
              "    <tr>\n",
              "      <th>31162</th>\n",
              "      <td>The Perfect Summer</td>\n",
              "      <td>Biography,Drama,Sport</td>\n",
              "      <td>A true story of the summer basketball legend J...</td>\n",
              "      <td>true story summer basketball legend jerry luca...</td>\n",
              "    </tr>\n",
              "  </tbody>\n",
              "</table>\n",
              "<p>31163 rows × 4 columns</p>\n",
              "</div>\n",
              "      <button class=\"colab-df-convert\" onclick=\"convertToInteractive('df-113b4523-4081-4a98-82c7-6dd15db27737')\"\n",
              "              title=\"Convert this dataframe to an interactive table.\"\n",
              "              style=\"display:none;\">\n",
              "        \n",
              "  <svg xmlns=\"http://www.w3.org/2000/svg\" height=\"24px\"viewBox=\"0 0 24 24\"\n",
              "       width=\"24px\">\n",
              "    <path d=\"M0 0h24v24H0V0z\" fill=\"none\"/>\n",
              "    <path d=\"M18.56 5.44l.94 2.06.94-2.06 2.06-.94-2.06-.94-.94-2.06-.94 2.06-2.06.94zm-11 1L8.5 8.5l.94-2.06 2.06-.94-2.06-.94L8.5 2.5l-.94 2.06-2.06.94zm10 10l.94 2.06.94-2.06 2.06-.94-2.06-.94-.94-2.06-.94 2.06-2.06.94z\"/><path d=\"M17.41 7.96l-1.37-1.37c-.4-.4-.92-.59-1.43-.59-.52 0-1.04.2-1.43.59L10.3 9.45l-7.72 7.72c-.78.78-.78 2.05 0 2.83L4 21.41c.39.39.9.59 1.41.59.51 0 1.02-.2 1.41-.59l7.78-7.78 2.81-2.81c.8-.78.8-2.07 0-2.86zM5.41 20L4 18.59l7.72-7.72 1.47 1.35L5.41 20z\"/>\n",
              "  </svg>\n",
              "      </button>\n",
              "      \n",
              "  <style>\n",
              "    .colab-df-container {\n",
              "      display:flex;\n",
              "      flex-wrap:wrap;\n",
              "      gap: 12px;\n",
              "    }\n",
              "\n",
              "    .colab-df-convert {\n",
              "      background-color: #E8F0FE;\n",
              "      border: none;\n",
              "      border-radius: 50%;\n",
              "      cursor: pointer;\n",
              "      display: none;\n",
              "      fill: #1967D2;\n",
              "      height: 32px;\n",
              "      padding: 0 0 0 0;\n",
              "      width: 32px;\n",
              "    }\n",
              "\n",
              "    .colab-df-convert:hover {\n",
              "      background-color: #E2EBFA;\n",
              "      box-shadow: 0px 1px 2px rgba(60, 64, 67, 0.3), 0px 1px 3px 1px rgba(60, 64, 67, 0.15);\n",
              "      fill: #174EA6;\n",
              "    }\n",
              "\n",
              "    [theme=dark] .colab-df-convert {\n",
              "      background-color: #3B4455;\n",
              "      fill: #D2E3FC;\n",
              "    }\n",
              "\n",
              "    [theme=dark] .colab-df-convert:hover {\n",
              "      background-color: #434B5C;\n",
              "      box-shadow: 0px 1px 3px 1px rgba(0, 0, 0, 0.15);\n",
              "      filter: drop-shadow(0px 1px 2px rgba(0, 0, 0, 0.3));\n",
              "      fill: #FFFFFF;\n",
              "    }\n",
              "  </style>\n",
              "\n",
              "      <script>\n",
              "        const buttonEl =\n",
              "          document.querySelector('#df-113b4523-4081-4a98-82c7-6dd15db27737 button.colab-df-convert');\n",
              "        buttonEl.style.display =\n",
              "          google.colab.kernel.accessAllowed ? 'block' : 'none';\n",
              "\n",
              "        async function convertToInteractive(key) {\n",
              "          const element = document.querySelector('#df-113b4523-4081-4a98-82c7-6dd15db27737');\n",
              "          const dataTable =\n",
              "            await google.colab.kernel.invokeFunction('convertToInteractive',\n",
              "                                                     [key], {});\n",
              "          if (!dataTable) return;\n",
              "\n",
              "          const docLinkHtml = 'Like what you see? Visit the ' +\n",
              "            '<a target=\"_blank\" href=https://colab.research.google.com/notebooks/data_table.ipynb>data table notebook</a>'\n",
              "            + ' to learn more about interactive tables.';\n",
              "          element.innerHTML = '';\n",
              "          dataTable['output_type'] = 'display_data';\n",
              "          await google.colab.output.renderOutput(dataTable, element);\n",
              "          const docLink = document.createElement('div');\n",
              "          docLink.innerHTML = docLinkHtml;\n",
              "          element.appendChild(docLink);\n",
              "        }\n",
              "      </script>\n",
              "    </div>\n",
              "  </div>\n",
              "  "
            ],
            "text/plain": [
              "                                             movie  \\\n",
              "0      Doctor Strange in the Multiverse of Madness   \n",
              "1                         Avatar: The Way of Water   \n",
              "2                                     The Northman   \n",
              "3                                      Moon Knight   \n",
              "4                                       The Batman   \n",
              "...                                            ...   \n",
              "31158         La vie et la passion de Jésus Christ   \n",
              "31159     Life of the Party: The Story of Beatrice   \n",
              "31160                           Adventures in Rock   \n",
              "31161                            The Girl in White   \n",
              "31162                           The Perfect Summer   \n",
              "\n",
              "                             genre  \\\n",
              "0         Action,Adventure,Fantasy   \n",
              "1          Action,Adventure,Sci-Fi   \n",
              "2           Action,Adventure,Drama   \n",
              "3         Action,Adventure,Fantasy   \n",
              "4               Action,Crime,Drama   \n",
              "...                            ...   \n",
              "31158        Short,Biography,Drama   \n",
              "31159              Biography,Drama   \n",
              "31160  Documentary,Biography,Music   \n",
              "31161              Biography,Drama   \n",
              "31162        Biography,Drama,Sport   \n",
              "\n",
              "                                                    plot  \\\n",
              "0      Doctor Strange teams up with a mysterious teen...   \n",
              "1      Jake Sully lives with his newfound family form...   \n",
              "2      From visionary director Robert Eggers comes Th...   \n",
              "3      Steven Grant discovers he's been granted the p...   \n",
              "4      When a sadistic serial killer begins murdering...   \n",
              "...                                                  ...   \n",
              "31158  The story of Jesus Christ from the proclamatio...   \n",
              "31159  This made-for-television movie is a dramatizat...   \n",
              "31160  This Canadian documentary follows the journey ...   \n",
              "31161  A young woman decides to become a doctor at a ...   \n",
              "31162  A true story of the summer basketball legend J...   \n",
              "\n",
              "                                       preprocessed_plot  \n",
              "0      doctor strange team mysterious teenage girl dr...  \n",
              "1      jake sully life newfound family formed planet ...  \n",
              "2      visionary director robert egger come northman ...  \n",
              "3      steven grant discovers granted power egyptian ...  \n",
              "4      sadistic serial killer begin murdering key pol...  \n",
              "...                                                  ...  \n",
              "31158  story jesus christ proclamation nativity cruci...  \n",
              "31159  made television movie dramatization life found...  \n",
              "31160  canadian documentary follows journey toronto b...  \n",
              "31161  young woman decides become doctor time woman m...  \n",
              "31162  true story summer basketball legend jerry luca...  \n",
              "\n",
              "[31163 rows x 4 columns]"
            ]
          },
          "execution_count": 5,
          "metadata": {},
          "output_type": "execute_result"
        }
      ],
      "source": [
        "data = pd.read_csv(\"drive/MyDrive/nlp_data/raw/cleaned_data.csv\")\n",
        "data"
      ]
    },
    {
      "cell_type": "code",
      "execution_count": null,
      "metadata": {
        "id": "suklEMRCA_66"
      },
      "outputs": [],
      "source": [
        "data[\"genre\"] = data[\"genre\"].str.split(',')"
      ]
    },
    {
      "cell_type": "code",
      "execution_count": null,
      "metadata": {
        "colab": {
          "base_uri": "https://localhost:8080/"
        },
        "id": "VNFjB_paCD8b",
        "outputId": "bab7853d-4d47-4bb1-b8c1-f3cb63e2979f"
      },
      "outputs": [
        {
          "data": {
            "text/plain": [
              "0    [Action, Adventure, Fantasy]\n",
              "1     [Action, Adventure, Sci-Fi]\n",
              "2      [Action, Adventure, Drama]\n",
              "3    [Action, Adventure, Fantasy]\n",
              "4          [Action, Crime, Drama]\n",
              "Name: genre, dtype: object"
            ]
          },
          "execution_count": 7,
          "metadata": {},
          "output_type": "execute_result"
        }
      ],
      "source": [
        "data[\"genre\"][:5]"
      ]
    },
    {
      "cell_type": "code",
      "execution_count": null,
      "metadata": {
        "colab": {
          "base_uri": "https://localhost:8080/"
        },
        "id": "YEpt0c1LC1Qh",
        "outputId": "1a3b9bab-967e-4f9d-a80f-0f1be5eca8af"
      },
      "outputs": [
        {
          "name": "stdout",
          "output_type": "stream",
          "text": [
            "Number of rows in training set: 24930\n",
            "Number of rows in test set: 6233\n"
          ]
        }
      ],
      "source": [
        "train_df, test_df = train_test_split(\n",
        "    data,\n",
        "    test_size=0.2,\n",
        ")\n",
        "print(f\"Number of rows in training set: {len(train_df)}\")\n",
        "print(f\"Number of rows in test set: {len(test_df)}\")"
      ]
    },
    {
      "cell_type": "code",
      "execution_count": null,
      "metadata": {
        "colab": {
          "base_uri": "https://localhost:8080/"
        },
        "id": "d7ssdj4yKf8O",
        "outputId": "44e4ba9e-3648-4f52-a684-6849f56c3bae"
      },
      "outputs": [
        {
          "name": "stdout",
          "output_type": "stream",
          "text": [
            "Vocabulary:\n",
            "\n",
            "['[UNK]', 'Drama', 'Comedy', 'Action', 'Adventure', 'Crime', 'Animation', 'Biography', 'Horror', 'Romance', 'Thriller', 'Mystery', 'Fantasy', 'Sci-Fi', 'Family', 'Documentary', 'History', 'Short', 'Music', 'Sport', 'War', 'Musical', 'Western', 'Film-Noir', 'Reality-TV', 'Game-Show', 'Talk-Show', 'News', 'Adult']\n"
          ]
        }
      ],
      "source": [
        "terms = tf.ragged.constant(train_df[\"genre\"].values)\n",
        "lookup = tf.keras.layers.StringLookup(output_mode=\"multi_hot\")\n",
        "lookup.adapt(terms)\n",
        "vocab = lookup.get_vocabulary()\n",
        "\n",
        "\n",
        "def invert_multi_hot(encoded_labels):\n",
        "    \"\"\"Reverse a single multi-hot encoded label to a tuple of vocab terms.\"\"\"\n",
        "    hot_indices = np.argwhere(encoded_labels == 1.0)[..., 0]\n",
        "    return np.take(vocab, hot_indices)\n",
        "\n",
        "\n",
        "print(\"Vocabulary:\\n\")\n",
        "print(vocab)"
      ]
    },
    {
      "cell_type": "code",
      "execution_count": null,
      "metadata": {
        "colab": {
          "base_uri": "https://localhost:8080/"
        },
        "id": "BNrkGnhyKvZT",
        "outputId": "2a3d140f-2965-4d85-e2a7-c86f6aa85719"
      },
      "outputs": [
        {
          "name": "stdout",
          "output_type": "stream",
          "text": [
            "Original label: ['Crime', 'Drama', 'Mystery']\n",
            "Label-binarized representation: [[0. 1. 0. 0. 0. 1. 0. 0. 0. 0. 0. 1. 0. 0. 0. 0. 0. 0. 0. 0. 0. 0. 0. 0.\n",
            "  0. 0. 0. 0. 0.]]\n"
          ]
        }
      ],
      "source": [
        "sample_label = train_df[\"genre\"].iloc[0]\n",
        "print(f\"Original label: {sample_label}\")\n",
        "\n",
        "label_binarized = lookup([sample_label])\n",
        "print(f\"Label-binarized representation: {label_binarized}\")"
      ]
    },
    {
      "cell_type": "code",
      "execution_count": null,
      "metadata": {
        "id": "Qz1BSN9LKz0b"
      },
      "outputs": [],
      "source": [
        "batch_size = 128\n",
        "auto = tf.data.AUTOTUNE\n",
        "\n",
        "def make_dataset(dataframe, is_train=True):\n",
        "    labels = tf.ragged.constant(dataframe[\"genre\"].values)\n",
        "    label_binarized = lookup(labels).numpy()\n",
        "    dataset = tf.data.Dataset.from_tensor_slices(\n",
        "        (dataframe[\"preprocessed_plot\"].values, label_binarized)\n",
        "    )\n",
        "    dataset = dataset.shuffle(batch_size * 10) if is_train else dataset\n",
        "    return dataset.batch(batch_size)"
      ]
    },
    {
      "cell_type": "code",
      "execution_count": null,
      "metadata": {
        "id": "UPHE6DO8M71x"
      },
      "outputs": [],
      "source": [
        "train_dataset = make_dataset(train_df, is_train=True)\n",
        "test_dataset = make_dataset(test_df, is_train=False)"
      ]
    },
    {
      "cell_type": "code",
      "execution_count": null,
      "metadata": {
        "colab": {
          "base_uri": "https://localhost:8080/"
        },
        "id": "29LUMmpRNIc9",
        "outputId": "56a18477-43db-4940-ee28-3e04b4d5c262"
      },
      "outputs": [
        {
          "name": "stdout",
          "output_type": "stream",
          "text": [
            "Plot: b'hendrik sixteen big city kid vexed learn mother moving little brother eddi village south austria make matter worse local'\n",
            "Label(s): ['Horror' 'Thriller' 'Mystery']\n",
            " \n",
            "Plot: b'game pick conclusion psychonauts rhombus ruin following zanotto rescue team return psychonaut headquarters raz discovers'\n",
            "Label(s): ['Comedy' 'Action' 'Adventure']\n",
            " \n",
            "Plot: b'dee dee blanchard overprotective daughter gypsy trying escape toxic relationship mother gypsy quest independence open pandora box secret ultimately lead murder'\n",
            "Label(s): ['Drama' 'Crime' 'Biography']\n",
            " \n",
            "Plot: b'female lawyer take accused wife murderer client find morally compelled betray one way another'\n",
            "Label(s): ['Drama' 'Crime' 'Thriller']\n",
            " \n",
            "Plot: b'resident friendly pennsylvania town foil three brother plan rob bank christmas eve'\n",
            "Label(s): ['Comedy' 'Adventure' 'Crime']\n",
            " \n"
          ]
        }
      ],
      "source": [
        "text_batch, label_batch = next(iter(train_dataset))\n",
        "\n",
        "for i, text in enumerate(text_batch[:5]):\n",
        "    label = label_batch[i].numpy()[None, ...]\n",
        "    print(f\"Plot: {text}\")\n",
        "    print(f\"Label(s): {invert_multi_hot(label[0])}\")\n",
        "    print(\" \")"
      ]
    },
    {
      "cell_type": "code",
      "execution_count": null,
      "metadata": {
        "colab": {
          "base_uri": "https://localhost:8080/"
        },
        "id": "SUPeauP5NVxZ",
        "outputId": "5669b8a8-46a2-4ddc-a3b6-9b5618e4c39b"
      },
      "outputs": [
        {
          "name": "stdout",
          "output_type": "stream",
          "text": [
            "30802\n"
          ]
        }
      ],
      "source": [
        "vocabulary = set()\n",
        "train_df[\"preprocessed_plot\"].str.lower().str.split().apply(vocabulary.update)\n",
        "vocabulary_size = len(vocabulary)\n",
        "print(vocabulary_size)"
      ]
    },
    {
      "cell_type": "code",
      "execution_count": null,
      "metadata": {
        "id": "BrQVjv4_NuV_"
      },
      "outputs": [],
      "source": [
        "text_vectorizer = layers.TextVectorization(\n",
        "    max_tokens=vocabulary_size, ngrams=2, output_mode=\"tf_idf\"\n",
        ")\n",
        "\n",
        "with tf.device(\"/CPU:0\"):\n",
        "    text_vectorizer.adapt(train_dataset.map(lambda text, label: text))\n",
        "\n",
        "train_dataset = train_dataset.map(\n",
        "    lambda text, label: (text_vectorizer(text), label), num_parallel_calls=auto\n",
        ").prefetch(auto)\n",
        "\n",
        "test_dataset = test_dataset.map(\n",
        "    lambda text, label: (text_vectorizer(text), label), num_parallel_calls=auto\n",
        ").prefetch(auto)"
      ]
    },
    {
      "cell_type": "code",
      "execution_count": null,
      "metadata": {
        "id": "dc_S1gvHR_Sl"
      },
      "outputs": [],
      "source": [
        "model = Sequential()\n",
        "model.add(layers.Dense(512, activation='relu'))\n",
        "model.add(layers.Dense(256, activation='relu'))\n",
        "model.add(layers.Dense(lookup.vocabulary_size(), activation='sigmoid'))"
      ]
    },
    {
      "cell_type": "code",
      "execution_count": null,
      "metadata": {
        "id": "Hl0ESW9pSpzk"
      },
      "outputs": [],
      "source": [
        "model.compile(\n",
        "    loss=\"binary_crossentropy\", optimizer=\"adam\", metrics=[\"categorical_accuracy\"]\n",
        ")"
      ]
    },
    {
      "cell_type": "code",
      "execution_count": null,
      "metadata": {
        "colab": {
          "background_save": true,
          "base_uri": "https://localhost:8080/"
        },
        "id": "JbAq9qboSqCF",
        "outputId": "4b96c979-6b89-4900-9051-7eb275013d87"
      },
      "outputs": [
        {
          "name": "stdout",
          "output_type": "stream",
          "text": [
            "Epoch 1/20\n",
            "195/195 [==============================] - 47s 231ms/step - loss: 0.2126 - categorical_accuracy: 0.4161\n",
            "Epoch 2/20\n",
            "195/195 [==============================] - 38s 195ms/step - loss: 0.0877 - categorical_accuracy: 0.4485\n",
            "Epoch 3/20\n",
            "195/195 [==============================] - 40s 205ms/step - loss: 0.0262 - categorical_accuracy: 0.4513\n",
            "Epoch 4/20\n",
            "195/195 [==============================] - 38s 193ms/step - loss: 0.0088 - categorical_accuracy: 0.5021\n",
            "Epoch 5/20\n",
            "195/195 [==============================] - 37s 192ms/step - loss: 0.0050 - categorical_accuracy: 0.5284\n",
            "Epoch 6/20\n",
            "195/195 [==============================] - 39s 200ms/step - loss: 0.0035 - categorical_accuracy: 0.5432\n",
            "Epoch 7/20\n",
            "195/195 [==============================] - 37s 190ms/step - loss: 0.0031 - categorical_accuracy: 0.5497\n",
            "Epoch 8/20\n",
            "195/195 [==============================] - 37s 189ms/step - loss: 0.0027 - categorical_accuracy: 0.5584\n",
            "Epoch 9/20\n",
            "195/195 [==============================] - 37s 189ms/step - loss: 0.0026 - categorical_accuracy: 0.5765\n",
            "Epoch 10/20\n",
            "195/195 [==============================] - 37s 191ms/step - loss: 0.0029 - categorical_accuracy: 0.5701\n",
            "Epoch 11/20\n",
            "195/195 [==============================] - 37s 190ms/step - loss: 0.0041 - categorical_accuracy: 0.5761\n",
            "Epoch 12/20\n",
            "195/195 [==============================] - 39s 202ms/step - loss: 0.0071 - categorical_accuracy: 0.5381\n",
            "Epoch 13/20\n",
            "195/195 [==============================] - 39s 202ms/step - loss: 0.0119 - categorical_accuracy: 0.5123\n",
            "Epoch 14/20\n",
            "195/195 [==============================] - 41s 210ms/step - loss: 0.0134 - categorical_accuracy: 0.5128\n",
            "Epoch 15/20\n",
            "195/195 [==============================] - 38s 197ms/step - loss: 0.0091 - categorical_accuracy: 0.4903\n",
            "Epoch 16/20\n",
            "195/195 [==============================] - 37s 191ms/step - loss: 0.0058 - categorical_accuracy: 0.4807\n",
            "Epoch 17/20\n",
            "195/195 [==============================] - 38s 193ms/step - loss: 0.0034 - categorical_accuracy: 0.4654\n",
            "Epoch 18/20\n",
            "195/195 [==============================] - 37s 191ms/step - loss: 0.0025 - categorical_accuracy: 0.4735\n",
            "Epoch 19/20\n",
            "195/195 [==============================] - 37s 190ms/step - loss: 0.0021 - categorical_accuracy: 0.4899\n",
            "Epoch 20/20\n",
            "195/195 [==============================] - 37s 190ms/step - loss: 0.0021 - categorical_accuracy: 0.4712\n"
          ]
        }
      ],
      "source": [
        "history = model.fit(train_dataset, epochs=20)"
      ]
    },
    {
      "cell_type": "code",
      "execution_count": null,
      "metadata": {
        "colab": {
          "base_uri": "https://localhost:8080/"
        },
        "id": "-ThdnY5AhibE",
        "outputId": "969a8b3e-725e-4756-f26d-f9a4cf6484d8"
      },
      "outputs": [
        {
          "name": "stdout",
          "output_type": "stream",
          "text": [
            "Model: \"sequential\"\n",
            "_________________________________________________________________\n",
            " Layer (type)                Output Shape              Param #   \n",
            "=================================================================\n",
            " dense (Dense)               (None, 512)               15771136  \n",
            "                                                                 \n",
            " dense_1 (Dense)             (None, 256)               131328    \n",
            "                                                                 \n",
            " dense_2 (Dense)             (None, 29)                7453      \n",
            "                                                                 \n",
            "=================================================================\n",
            "Total params: 15,909,917\n",
            "Trainable params: 15,909,917\n",
            "Non-trainable params: 0\n",
            "_________________________________________________________________\n",
            "None\n"
          ]
        }
      ],
      "source": [
        "print(model.summary())"
      ]
    },
    {
      "cell_type": "code",
      "execution_count": null,
      "metadata": {
        "colab": {
          "base_uri": "https://localhost:8080/",
          "height": 422
        },
        "id": "6YnLUUo-jgXE",
        "outputId": "1fb074c1-92c5-4eec-8207-07eedd861d43"
      },
      "outputs": [
        {
          "data": {
            "image/png": "[encoded data removed]",
            "text/plain": [
              "<IPython.core.display.Image object>"
            ]
          },
          "execution_count": 22,
          "metadata": {},
          "output_type": "execute_result"
        }
      ],
      "source": [
        "from keras.utils.vis_utils import plot_model\n",
        "plot_model(model, to_file='model_plot4a.png', show_shapes=True, show_layer_names=True)"
      ]
    },
    {
      "cell_type": "code",
      "execution_count": null,
      "metadata": {
        "colab": {
          "base_uri": "https://localhost:8080/",
          "height": 296
        },
        "id": "EUsPryQ1WnSC",
        "outputId": "4a7b5eba-a8fd-4a61-9522-363303175367"
      },
      "outputs": [
        {
          "data": {
            "image/png": "[encoded data removed]",
            "text/plain": [
              "<Figure size 432x288 with 1 Axes>"
            ]
          },
          "metadata": {},
          "output_type": "display_data"
        }
      ],
      "source": [
        "plt.plot(history.history['loss'], label='loss')\n",
        "plt.xlabel(\"Epochs\")\n",
        "plt.ylabel('loss')\n",
        "plt.title(\"Train {} Over Epochs\".format('loss'), fontsize=14)\n",
        "plt.legend()\n",
        "plt.grid()\n",
        "plt.show()"
      ]
    },
    {
      "cell_type": "code",
      "execution_count": null,
      "metadata": {
        "colab": {
          "base_uri": "https://localhost:8080/",
          "height": 296
        },
        "id": "gCq9sOZCaKiO",
        "outputId": "07f3256b-da4c-43ef-d371-0fd2f1d5c1b3"
      },
      "outputs": [
        {
          "data": {
            "image/png": "[encoded data removed]",
            "text/plain": [
              "<Figure size 432x288 with 1 Axes>"
            ]
          },
          "metadata": {},
          "output_type": "display_data"
        }
      ],
      "source": [
        "plt.plot(history.history['categorical_accuracy'], label='categorical_accuracy')\n",
        "plt.xlabel(\"Epochs\")\n",
        "plt.ylabel('categorical_accuracy')\n",
        "plt.title(\"Train {} Over Epochs\".format('categorical_accuracy'), fontsize=14)\n",
        "plt.legend()\n",
        "plt.grid()\n",
        "plt.show()"
      ]
    },
    {
      "cell_type": "code",
      "execution_count": null,
      "metadata": {
        "colab": {
          "base_uri": "https://localhost:8080/"
        },
        "id": "SHp0el9BaT2d",
        "outputId": "72f8231d-4339-4f90-f001-18a3366011a6"
      },
      "outputs": [
        {
          "name": "stdout",
          "output_type": "stream",
          "text": [
            "49/49 [==============================] - 1s 10ms/step - loss: 0.7119 - categorical_accuracy: 0.3571\n",
            "Categorical accuracy on the test set: 35.71%.\n"
          ]
        }
      ],
      "source": [
        "_, categorical_acc = model.evaluate(test_dataset)\n",
        "print(f\"Categorical accuracy on the test set: {round(categorical_acc * 100, 2)}%.\")"
      ]
    },
    {
      "cell_type": "code",
      "execution_count": null,
      "metadata": {
        "id": "crq4oX4Ca4Ee"
      },
      "outputs": [],
      "source": [
        ""
      ]
    }
  ],
  "metadata": {
    "accelerator": "GPU",
    "colab": {
      "collapsed_sections": [],
      "name": "nlp_project_part2.ipynb",
      "provenance": []
    },
    "gpuClass": "standard",
    "kernelspec": {
      "display_name": "Python 3",
      "language": "python",
      "name": "python3"
    },
    "language_info": {
      "codemirror_mode": {
        "name": "ipython",
        "version": 3
      },
      "file_extension": ".py",
      "mimetype": "text/x-python",
      "name": "python",
      "nbconvert_exporter": "python",
      "pygments_lexer": "ipython3",
      "version": "3.6.4"
    }
  },
  "nbformat": 4,
  "nbformat_minor": 0
}