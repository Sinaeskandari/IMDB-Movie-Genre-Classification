{
 "cells": [
  {
   "cell_type": "markdown",
   "id": "1487c665",
   "metadata": {},
   "source": [
    "# CNN Method"
   ]
  },
  {
   "cell_type": "code",
   "execution_count": 20,
   "id": "3476f41e",
   "metadata": {},
   "outputs": [],
   "source": [
    "from numpy import array\n",
    "import keras\n",
    "import tensorflow as tf\n",
    "from keras.preprocessing.text import one_hot\n",
    "from keras.preprocessing.sequence import pad_sequences\n",
    "from keras.models import Sequential\n",
    "from keras.layers.core import Activation, Dropout, Dense\n",
    "from keras.layers import Bidirectional\n",
    "from keras.layers import GlobalMaxPooling1D\n",
    "from keras.models import Model\n",
    "from keras.layers.embeddings import Embedding\n",
    "from sklearn.model_selection import train_test_split\n",
    "from keras.preprocessing.text import Tokenizer\n",
    "from keras.layers import Input\n",
    "from keras.layers.merge import Concatenate\n",
    "from numpy import array\n",
    "from numpy import asarray\n",
    "from numpy import zeros\n",
    "import pandas as pd\n",
    "import numpy as np\n",
    "import matplotlib.pyplot as plt\n",
    "import requests\n",
    "import zipfile"
   ]
  },
  {
   "cell_type": "code",
   "execution_count": 21,
   "id": "bd5da149",
   "metadata": {},
   "outputs": [
    {
     "data": {
      "text/html": [
       "<div>\n",
       "<style scoped>\n",
       "    .dataframe tbody tr th:only-of-type {\n",
       "        vertical-align: middle;\n",
       "    }\n",
       "\n",
       "    .dataframe tbody tr th {\n",
       "        vertical-align: top;\n",
       "    }\n",
       "\n",
       "    .dataframe thead th {\n",
       "        text-align: right;\n",
       "    }\n",
       "</style>\n",
       "<table border=\"1\" class=\"dataframe\">\n",
       "  <thead>\n",
       "    <tr style=\"text-align: right;\">\n",
       "      <th></th>\n",
       "      <th>preprocessed_plot</th>\n",
       "      <th>action</th>\n",
       "      <th>sci-fi</th>\n",
       "      <th>comedy</th>\n",
       "      <th>horror</th>\n",
       "      <th>drama</th>\n",
       "      <th>animation</th>\n",
       "      <th>mystery</th>\n",
       "      <th>crime</th>\n",
       "      <th>fantasy</th>\n",
       "      <th>thriller</th>\n",
       "      <th>romance</th>\n",
       "      <th>adventure</th>\n",
       "      <th>biography</th>\n",
       "    </tr>\n",
       "  </thead>\n",
       "  <tbody>\n",
       "    <tr>\n",
       "      <th>0</th>\n",
       "      <td>As a Palestinian assassin is targeting promine...</td>\n",
       "      <td>False</td>\n",
       "      <td>False</td>\n",
       "      <td>False</td>\n",
       "      <td>False</td>\n",
       "      <td>True</td>\n",
       "      <td>False</td>\n",
       "      <td>False</td>\n",
       "      <td>False</td>\n",
       "      <td>False</td>\n",
       "      <td>True</td>\n",
       "      <td>False</td>\n",
       "      <td>False</td>\n",
       "      <td>False</td>\n",
       "    </tr>\n",
       "    <tr>\n",
       "      <th>1</th>\n",
       "      <td>A girl and her friends find a game in the atti...</td>\n",
       "      <td>False</td>\n",
       "      <td>False</td>\n",
       "      <td>False</td>\n",
       "      <td>True</td>\n",
       "      <td>False</td>\n",
       "      <td>False</td>\n",
       "      <td>False</td>\n",
       "      <td>False</td>\n",
       "      <td>False</td>\n",
       "      <td>False</td>\n",
       "      <td>False</td>\n",
       "      <td>False</td>\n",
       "      <td>False</td>\n",
       "    </tr>\n",
       "    <tr>\n",
       "      <th>2</th>\n",
       "      <td>The Earth is invaded by stingray-shaped alien ...</td>\n",
       "      <td>False</td>\n",
       "      <td>True</td>\n",
       "      <td>False</td>\n",
       "      <td>True</td>\n",
       "      <td>False</td>\n",
       "      <td>False</td>\n",
       "      <td>False</td>\n",
       "      <td>False</td>\n",
       "      <td>False</td>\n",
       "      <td>True</td>\n",
       "      <td>False</td>\n",
       "      <td>False</td>\n",
       "      <td>False</td>\n",
       "    </tr>\n",
       "    <tr>\n",
       "      <th>3</th>\n",
       "      <td>Józef visits his dying father at a remote ment...</td>\n",
       "      <td>False</td>\n",
       "      <td>False</td>\n",
       "      <td>False</td>\n",
       "      <td>True</td>\n",
       "      <td>True</td>\n",
       "      <td>False</td>\n",
       "      <td>False</td>\n",
       "      <td>False</td>\n",
       "      <td>True</td>\n",
       "      <td>False</td>\n",
       "      <td>False</td>\n",
       "      <td>False</td>\n",
       "      <td>False</td>\n",
       "    </tr>\n",
       "    <tr>\n",
       "      <th>4</th>\n",
       "      <td>The life of five-time Formula One world champi...</td>\n",
       "      <td>False</td>\n",
       "      <td>False</td>\n",
       "      <td>False</td>\n",
       "      <td>False</td>\n",
       "      <td>False</td>\n",
       "      <td>False</td>\n",
       "      <td>False</td>\n",
       "      <td>False</td>\n",
       "      <td>False</td>\n",
       "      <td>False</td>\n",
       "      <td>False</td>\n",
       "      <td>False</td>\n",
       "      <td>True</td>\n",
       "    </tr>\n",
       "  </tbody>\n",
       "</table>\n",
       "</div>"
      ],
      "text/plain": [
       "                                   preprocessed_plot  action  sci-fi  comedy  \\\n",
       "0  As a Palestinian assassin is targeting promine...   False   False   False   \n",
       "1  A girl and her friends find a game in the atti...   False   False   False   \n",
       "2  The Earth is invaded by stingray-shaped alien ...   False    True   False   \n",
       "3  Józef visits his dying father at a remote ment...   False   False   False   \n",
       "4  The life of five-time Formula One world champi...   False   False   False   \n",
       "\n",
       "   horror  drama  animation  mystery  crime  fantasy  thriller  romance  \\\n",
       "0   False   True      False    False  False    False      True    False   \n",
       "1    True  False      False    False  False    False     False    False   \n",
       "2    True  False      False    False  False    False      True    False   \n",
       "3    True   True      False    False  False     True     False    False   \n",
       "4   False  False      False    False  False    False     False    False   \n",
       "\n",
       "   adventure  biography  \n",
       "0      False      False  \n",
       "1      False      False  \n",
       "2      False      False  \n",
       "3      False      False  \n",
       "4      False       True  "
      ]
     },
     "execution_count": 21,
     "metadata": {},
     "output_type": "execute_result"
    }
   ],
   "source": [
    "col_list = [\"preprocessed_plot\",\"action\", \"sci-fi\", \"comedy\", \"horror\",\"drama\",\"animation\",\n",
    "            \"mystery\",\"crime\",\"fantasy\",\"thriller\",\"romance\",\"adventure\",\"biography\"]\n",
    "meta = pd.read_csv(\"data_for_bert.csv\", usecols=col_list)\n",
    "meta.head()"
   ]
  },
  {
   "cell_type": "code",
   "execution_count": 22,
   "id": "871806a9",
   "metadata": {},
   "outputs": [
    {
     "data": {
      "text/html": [
       "<div>\n",
       "<style scoped>\n",
       "    .dataframe tbody tr th:only-of-type {\n",
       "        vertical-align: middle;\n",
       "    }\n",
       "\n",
       "    .dataframe tbody tr th {\n",
       "        vertical-align: top;\n",
       "    }\n",
       "\n",
       "    .dataframe thead th {\n",
       "        text-align: right;\n",
       "    }\n",
       "</style>\n",
       "<table border=\"1\" class=\"dataframe\">\n",
       "  <thead>\n",
       "    <tr style=\"text-align: right;\">\n",
       "      <th></th>\n",
       "      <th>action</th>\n",
       "      <th>sci-fi</th>\n",
       "      <th>comedy</th>\n",
       "      <th>horror</th>\n",
       "      <th>drama</th>\n",
       "      <th>animation</th>\n",
       "      <th>mystery</th>\n",
       "      <th>crime</th>\n",
       "      <th>fantasy</th>\n",
       "      <th>thriller</th>\n",
       "      <th>romance</th>\n",
       "      <th>adventure</th>\n",
       "      <th>biography</th>\n",
       "    </tr>\n",
       "  </thead>\n",
       "  <tbody>\n",
       "    <tr>\n",
       "      <th>0</th>\n",
       "      <td>False</td>\n",
       "      <td>False</td>\n",
       "      <td>False</td>\n",
       "      <td>False</td>\n",
       "      <td>True</td>\n",
       "      <td>False</td>\n",
       "      <td>False</td>\n",
       "      <td>False</td>\n",
       "      <td>False</td>\n",
       "      <td>True</td>\n",
       "      <td>False</td>\n",
       "      <td>False</td>\n",
       "      <td>False</td>\n",
       "    </tr>\n",
       "    <tr>\n",
       "      <th>1</th>\n",
       "      <td>False</td>\n",
       "      <td>False</td>\n",
       "      <td>False</td>\n",
       "      <td>True</td>\n",
       "      <td>False</td>\n",
       "      <td>False</td>\n",
       "      <td>False</td>\n",
       "      <td>False</td>\n",
       "      <td>False</td>\n",
       "      <td>False</td>\n",
       "      <td>False</td>\n",
       "      <td>False</td>\n",
       "      <td>False</td>\n",
       "    </tr>\n",
       "    <tr>\n",
       "      <th>2</th>\n",
       "      <td>False</td>\n",
       "      <td>True</td>\n",
       "      <td>False</td>\n",
       "      <td>True</td>\n",
       "      <td>False</td>\n",
       "      <td>False</td>\n",
       "      <td>False</td>\n",
       "      <td>False</td>\n",
       "      <td>False</td>\n",
       "      <td>True</td>\n",
       "      <td>False</td>\n",
       "      <td>False</td>\n",
       "      <td>False</td>\n",
       "    </tr>\n",
       "    <tr>\n",
       "      <th>3</th>\n",
       "      <td>False</td>\n",
       "      <td>False</td>\n",
       "      <td>False</td>\n",
       "      <td>True</td>\n",
       "      <td>True</td>\n",
       "      <td>False</td>\n",
       "      <td>False</td>\n",
       "      <td>False</td>\n",
       "      <td>True</td>\n",
       "      <td>False</td>\n",
       "      <td>False</td>\n",
       "      <td>False</td>\n",
       "      <td>False</td>\n",
       "    </tr>\n",
       "    <tr>\n",
       "      <th>4</th>\n",
       "      <td>False</td>\n",
       "      <td>False</td>\n",
       "      <td>False</td>\n",
       "      <td>False</td>\n",
       "      <td>False</td>\n",
       "      <td>False</td>\n",
       "      <td>False</td>\n",
       "      <td>False</td>\n",
       "      <td>False</td>\n",
       "      <td>False</td>\n",
       "      <td>False</td>\n",
       "      <td>False</td>\n",
       "      <td>True</td>\n",
       "    </tr>\n",
       "  </tbody>\n",
       "</table>\n",
       "</div>"
      ],
      "text/plain": [
       "   action  sci-fi  comedy  horror  drama  animation  mystery  crime  fantasy  \\\n",
       "0   False   False   False   False   True      False    False  False    False   \n",
       "1   False   False   False    True  False      False    False  False    False   \n",
       "2   False    True   False    True  False      False    False  False    False   \n",
       "3   False   False   False    True   True      False    False  False     True   \n",
       "4   False   False   False   False  False      False    False  False    False   \n",
       "\n",
       "   thriller  romance  adventure  biography  \n",
       "0      True    False      False      False  \n",
       "1     False    False      False      False  \n",
       "2      True    False      False      False  \n",
       "3     False    False      False      False  \n",
       "4     False    False      False       True  "
      ]
     },
     "execution_count": 22,
     "metadata": {},
     "output_type": "execute_result"
    }
   ],
   "source": [
    "train_set_labels = meta[[\"action\", \"sci-fi\", \"comedy\", \"horror\",\"drama\",\"animation\",\n",
    "            \"mystery\",\"crime\",\"fantasy\",\"thriller\",\"romance\",\"adventure\",\"biography\"]]\n",
    "train_set_labels.head()"
   ]
  },
  {
   "cell_type": "code",
   "execution_count": 23,
   "id": "734dc836",
   "metadata": {},
   "outputs": [],
   "source": [
    "X = list(meta[\"preprocessed_plot\"])\n",
    "y = train_set_labels.values"
   ]
  },
  {
   "cell_type": "code",
   "execution_count": 24,
   "id": "2d545579",
   "metadata": {},
   "outputs": [
    {
     "name": "stdout",
     "output_type": "stream",
     "text": [
      "31163\n"
     ]
    }
   ],
   "source": [
    "print(len(X))"
   ]
  },
  {
   "cell_type": "code",
   "execution_count": 25,
   "id": "0546cc79",
   "metadata": {},
   "outputs": [],
   "source": [
    "X_train, X_test, y_train, y_test = train_test_split(X, y, test_size=0.20, random_state=42)"
   ]
  },
  {
   "cell_type": "markdown",
   "id": "22691cb2",
   "metadata": {},
   "source": [
    "## Download only ONCE"
   ]
  },
  {
   "cell_type": "code",
   "execution_count": 10,
   "id": "d6931bcc",
   "metadata": {},
   "outputs": [],
   "source": [
    "url = 'http://nlp.stanford.edu/data/glove.6B.zip'\n",
    "r = requests.get(url, allow_redirects=True)\n",
    "\n",
    "open('glove.6B.zip', 'wb').write(r.content)\n",
    "\n",
    "path_to_zip_file = 'glove.6B.zip'\n",
    "directory_to_extract_to = 'glove.6B.txt'"
   ]
  },
  {
   "cell_type": "code",
   "execution_count": 11,
   "id": "eefe301d",
   "metadata": {},
   "outputs": [],
   "source": [
    "with zipfile.ZipFile(path_to_zip_file, 'r') as zip_ref:\n",
    "    zip_ref.extractall(directory_to_extract_to)"
   ]
  },
  {
   "cell_type": "code",
   "execution_count": 26,
   "id": "c6c802cb",
   "metadata": {},
   "outputs": [],
   "source": [
    "tokenizer = Tokenizer(num_words=5000)\n",
    "tokenizer.fit_on_texts(X_train)\n",
    "\n",
    "X_train = tokenizer.texts_to_sequences(X_train)\n",
    "X_test = tokenizer.texts_to_sequences(X_test)\n",
    "\n",
    "vocab_size = len(tokenizer.word_index) + 1\n",
    "\n",
    "maxlen = 200\n",
    "\n",
    "X_train = pad_sequences(X_train, padding='post', maxlen=maxlen)\n",
    "X_test = pad_sequences(X_test, padding='post', maxlen=maxlen)"
   ]
  },
  {
   "cell_type": "code",
   "execution_count": 27,
   "id": "f75a353d",
   "metadata": {},
   "outputs": [],
   "source": [
    "embeddings_dictionary = dict()\n",
    "\n",
    "glove_file = open('glove.6B.txt/glove.6B.100d.txt', encoding=\"utf8\")\n",
    "\n",
    "for line in glove_file:\n",
    "    records = line.split()\n",
    "    word = records[0]\n",
    "    vector_dimensions = asarray(records[1:], dtype='float32')\n",
    "    embeddings_dictionary[word] = vector_dimensions\n",
    "glove_file.close()\n",
    "\n",
    "embedding_matrix = zeros((vocab_size, 100))\n",
    "for word, index in tokenizer.word_index.items():\n",
    "    embedding_vector = embeddings_dictionary.get(word)\n",
    "    if embedding_vector is not None:\n",
    "        embedding_matrix[index] = embedding_vector"
   ]
  },
  {
   "cell_type": "code",
   "execution_count": 28,
   "id": "4b54609f",
   "metadata": {},
   "outputs": [
    {
     "name": "stderr",
     "output_type": "stream",
     "text": [
      "c:\\users\\asus\\appdata\\local\\programs\\python\\python36\\lib\\site-packages\\keras\\optimizer_v2\\optimizer_v2.py:356: UserWarning: The `lr` argument is deprecated, use `learning_rate` instead.\n",
      "  \"The `lr` argument is deprecated, use `learning_rate` instead.\")\n"
     ]
    }
   ],
   "source": [
    "input = tf.keras.layers.Input(shape=(maxlen,))\n",
    "x = tf.keras.layers.Embedding(vocab_size, 100, weights=[embedding_matrix], trainable=False)(input)\n",
    "\n",
    "x = tf.keras.layers.Conv1D(64, kernel_size=3, padding=\"valid\", kernel_initializer=\"glorot_uniform\")(x)\n",
    "\n",
    "avg_pool = tf.keras.layers.GlobalAveragePooling1D()(x)\n",
    "max_pool = tf.keras.layers.GlobalMaxPooling1D()(x)\n",
    "\n",
    "x = tf.keras.layers.concatenate([avg_pool, max_pool])\n",
    "\n",
    "preds = tf.keras.layers.Dense(13, activation=\"sigmoid\")(x)\n",
    "\n",
    "model = tf.keras.Model(input, preds)\n",
    "\n",
    "model.compile(loss='binary_crossentropy', optimizer=tf.keras.optimizers.Adam(lr=1e-3), metrics=['acc'])"
   ]
  },
  {
   "cell_type": "code",
   "execution_count": 29,
   "id": "bb8dbc65",
   "metadata": {},
   "outputs": [
    {
     "name": "stdout",
     "output_type": "stream",
     "text": [
      "Model: \"model_2\"\n",
      "__________________________________________________________________________________________________\n",
      "Layer (type)                    Output Shape         Param #     Connected to                     \n",
      "==================================================================================================\n",
      "input_3 (InputLayer)            [(None, 200)]        0                                            \n",
      "__________________________________________________________________________________________________\n",
      "embedding_2 (Embedding)         (None, 200, 100)     3727600     input_3[0][0]                    \n",
      "__________________________________________________________________________________________________\n",
      "conv1d_2 (Conv1D)               (None, 198, 64)      19264       embedding_2[0][0]                \n",
      "__________________________________________________________________________________________________\n",
      "global_average_pooling1d_2 (Glo (None, 64)           0           conv1d_2[0][0]                   \n",
      "__________________________________________________________________________________________________\n",
      "global_max_pooling1d_2 (GlobalM (None, 64)           0           conv1d_2[0][0]                   \n",
      "__________________________________________________________________________________________________\n",
      "concatenate_2 (Concatenate)     (None, 128)          0           global_average_pooling1d_2[0][0] \n",
      "                                                                 global_max_pooling1d_2[0][0]     \n",
      "__________________________________________________________________________________________________\n",
      "dense_2 (Dense)                 (None, 13)           1677        concatenate_2[0][0]              \n",
      "==================================================================================================\n",
      "Total params: 3,748,541\n",
      "Trainable params: 20,941\n",
      "Non-trainable params: 3,727,600\n",
      "__________________________________________________________________________________________________\n"
     ]
    }
   ],
   "source": [
    "model.summary()"
   ]
  },
  {
   "cell_type": "code",
   "execution_count": 34,
   "id": "ce067535",
   "metadata": {},
   "outputs": [
    {
     "name": "stdout",
     "output_type": "stream",
     "text": [
      "Epoch 1/10\n",
      "156/156 [==============================] - 5s 29ms/step - loss: 0.4296 - acc: 0.2822 - val_loss: 0.3847 - val_acc: 0.3389\n",
      "Epoch 2/10\n",
      "156/156 [==============================] - 4s 28ms/step - loss: 0.3664 - acc: 0.3608 - val_loss: 0.3599 - val_acc: 0.3708\n",
      "Epoch 3/10\n",
      "156/156 [==============================] - 5s 29ms/step - loss: 0.3481 - acc: 0.3764 - val_loss: 0.3522 - val_acc: 0.3863\n",
      "Epoch 4/10\n",
      "156/156 [==============================] - 4s 29ms/step - loss: 0.3376 - acc: 0.3900 - val_loss: 0.3470 - val_acc: 0.3787\n",
      "Epoch 5/10\n",
      "156/156 [==============================] - 5s 30ms/step - loss: 0.3302 - acc: 0.3972 - val_loss: 0.3441 - val_acc: 0.3791\n",
      "Epoch 6/10\n",
      "156/156 [==============================] - 5s 29ms/step - loss: 0.3249 - acc: 0.4007 - val_loss: 0.3420 - val_acc: 0.3753\n",
      "Epoch 7/10\n",
      "156/156 [==============================] - 5s 31ms/step - loss: 0.3205 - acc: 0.4089 - val_loss: 0.3411 - val_acc: 0.4011\n",
      "Epoch 8/10\n",
      "156/156 [==============================] - 5s 30ms/step - loss: 0.3163 - acc: 0.4103 - val_loss: 0.3405 - val_acc: 0.3897\n",
      "Epoch 9/10\n",
      "156/156 [==============================] - 5s 30ms/step - loss: 0.3128 - acc: 0.4109 - val_loss: 0.3403 - val_acc: 0.3825\n",
      "Epoch 10/10\n",
      "156/156 [==============================] - 5s 30ms/step - loss: 0.3103 - acc: 0.4134 - val_loss: 0.3393 - val_acc: 0.3714\n"
     ]
    }
   ],
   "source": [
    "batch_size = 128\n",
    "\n",
    "history = model.fit(X_train, y_train, validation_split=0.2, batch_size=batch_size,\n",
    "          epochs=10, verbose=1)"
   ]
  },
  {
   "cell_type": "code",
   "execution_count": 35,
   "id": "0fddf550",
   "metadata": {},
   "outputs": [
    {
     "name": "stdout",
     "output_type": "stream",
     "text": [
      "195/195 [==============================] - 0s 2ms/step - loss: 0.3404 - acc: 0.3640\n",
      "Test Score: 0.34044456481933594\n",
      "Test Accuracy: 0.3640301525592804\n"
     ]
    }
   ],
   "source": [
    "score = model.evaluate(X_test, y_test, verbose=1)\n",
    "\n",
    "print(\"Test Score:\", score[0])\n",
    "print(\"Test Accuracy:\", score[1])"
   ]
  },
  {
   "cell_type": "code",
   "execution_count": 36,
   "id": "022c6760",
   "metadata": {},
   "outputs": [
    {
     "data": {
      "image/png": "[encoded data removed]",
      "text/plain": [
       "<Figure size 432x288 with 1 Axes>"
      ]
     },
     "metadata": {
      "needs_background": "light"
     },
     "output_type": "display_data"
    },
    {
     "data": {
      "image/png": "[encoded data removed]",
      "text/plain": [
       "<Figure size 432x288 with 1 Axes>"
      ]
     },
     "metadata": {
      "needs_background": "light"
     },
     "output_type": "display_data"
    }
   ],
   "source": [
    "plt.plot(history.history['acc'])\n",
    "plt.plot(history.history['val_acc'])\n",
    "\n",
    "plt.title('model accuracy')\n",
    "plt.ylabel('accuracy')\n",
    "plt.xlabel('epoch')\n",
    "plt.legend(['train','test'], loc='upper left')\n",
    "plt.show()\n",
    "\n",
    "plt.plot(history.history['loss'])\n",
    "plt.plot(history.history['val_loss'])\n",
    "\n",
    "plt.title('model loss')\n",
    "plt.ylabel('loss')\n",
    "plt.xlabel('epoch')\n",
    "plt.legend(['train','test'], loc='upper left')\n",
    "plt.show()"
   ]
  },
  {
   "cell_type": "code",
   "execution_count": null,
   "id": "2c8b45b1",
   "metadata": {},
   "outputs": [],
   "source": []
  }
 ],
 "metadata": {
  "kernelspec": {
   "display_name": "Python 3",
   "language": "python",
   "name": "python3"
  },
  "language_info": {
   "codemirror_mode": {
    "name": "ipython",
    "version": 3
   },
   "file_extension": ".py",
   "mimetype": "text/x-python",
   "name": "python",
   "nbconvert_exporter": "python",
   "pygments_lexer": "ipython3",
   "version": "3.6.4"
  }
 },
 "nbformat": 4,
 "nbformat_minor": 5
}
