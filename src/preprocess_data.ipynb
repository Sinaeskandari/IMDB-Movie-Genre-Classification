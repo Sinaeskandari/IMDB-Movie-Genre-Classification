{
 "cells": [
  {
   "cell_type": "code",
   "execution_count": 59,
   "metadata": {
    "id": "frn1qZrlmApI"
   },
   "outputs": [],
   "source": [
    "import pandas as pd\n",
    "import numpy as np\n",
    "import matplotlib.pyplot as plt\n",
    "\n",
    "df = pd.read_csv('../data/raw/raw_data_v2.csv')"
   ]
  },
  {
   "cell_type": "code",
   "execution_count": 60,
   "metadata": {
    "id": "e1ZLjtU5mm_J"
   },
   "outputs": [],
   "source": [
    "df['genre'] = df['genre'].apply(lambda x: x.replace(' ', ''))\n",
    "df['genre'] = df['genre'].apply(lambda x: x.replace('[', ''))\n",
    "df['genre'] = df['genre'].apply(lambda x: x.replace(']', ''))\n",
    "df['genre'] = df['genre'].apply(lambda x: x.replace('\\'', ''))"
   ]
  },
  {
   "cell_type": "code",
   "execution_count": 61,
   "metadata": {
    "id": "A5mPGz2uqHyw"
   },
   "outputs": [],
   "source": [
    "genres = ['action', 'sci-fi', 'comedy', 'horror', 'drama', 'animation', 'mystery', 'crime', 'fantasy', 'thriller', \n",
    "          'romance', 'adventure', 'biography']\n",
    "genre_counts = {i:sum(df['genre'].str.lower().str.contains(i)) for i in genres}"
   ]
  },
  {
   "cell_type": "code",
   "execution_count": 62,
   "metadata": {
    "colab": {
     "base_uri": "https://localhost:8080/",
     "height": 483
    },
    "id": "wY3C2zI7zSiT",
    "outputId": "d248e0bd-581c-4b87-bef0-974e349baeca"
   },
   "outputs": [
    {
     "data": {
      "image/png": "[encoded data removed]",
      "text/plain": [
       "<Figure size 1080x576 with 1 Axes>"
      ]
     },
     "metadata": {
      "needs_background": "light"
     },
     "output_type": "display_data"
    }
   ],
   "source": [
    "plt.figure(figsize=(15, 8))\n",
    "plt.bar(genre_counts.keys(), genre_counts.values())\n",
    "plt.show()"
   ]
  },
  {
   "cell_type": "code",
   "execution_count": 63,
   "metadata": {
    "id": "UnCZA-4T8umX"
   },
   "outputs": [],
   "source": [
    "# lower case\n",
    "df['preprocessed_plot'] = df['plot'].str.lower()"
   ]
  },
  {
   "cell_type": "code",
   "execution_count": 64,
   "metadata": {
    "colab": {
     "base_uri": "https://localhost:8080/",
     "height": 70
    },
    "id": "xZSKbDQK_kQ1",
    "outputId": "cbeb5894-5dd3-4e3b-ea71-bb5abcb76439"
   },
   "outputs": [
    {
     "data": {
      "application/vnd.google.colaboratory.intrinsic+json": {
       "type": "string"
      },
      "text/plain": [
       "'doctor strange teams up with a mysterious teenage girl from his dreams who can travel across multiverses  to battle multiple threats  including other universe versions of himself  which threaten to wipe out millions across the multiverse  they seek help from wanda the scarlet witch  wong and others '"
      ]
     },
     "execution_count": 64,
     "metadata": {},
     "output_type": "execute_result"
    }
   ],
   "source": [
    "# remove punctutation\n",
    "import re\n",
    "import string\n",
    "df['preprocessed_plot'] = df['preprocessed_plot'].apply(lambda x: re.sub('[%s]' % re.escape(string.punctuation+'»'), ' ' , x))\n",
    "df['preprocessed_plot'][0]"
   ]
  },
  {
   "cell_type": "code",
   "execution_count": 65,
   "metadata": {
    "colab": {
     "base_uri": "https://localhost:8080/",
     "height": 70
    },
    "id": "DPaIHa74YVx7",
    "outputId": "4743d934-f0e3-4e35-8b31-a9bf3e95f6e2"
   },
   "outputs": [
    {
     "data": {
      "application/vnd.google.colaboratory.intrinsic+json": {
       "type": "string"
      },
      "text/plain": [
       "'doctor strange teams up with a mysterious teenage girl from his dreams who can travel across multiverses to battle multiple threats including other universe versions of himself which threaten to wipe out millions across the multiverse they seek help from wanda the scarlet witch wong and others '"
      ]
     },
     "execution_count": 65,
     "metadata": {},
     "output_type": "execute_result"
    }
   ],
   "source": [
    "# remove extra spaces\n",
    "df['preprocessed_plot'] = df['preprocessed_plot'].apply(lambda x: re.sub(' +', ' ', x))\n",
    "df['preprocessed_plot'][0]"
   ]
  },
  {
   "cell_type": "code",
   "execution_count": 66,
   "metadata": {
    "colab": {
     "base_uri": "https://localhost:8080/"
    },
    "id": "KEBGqCLoIw1d",
    "outputId": "c1e64f87-e368-46aa-b3f6-4e500dd9955b"
   },
   "outputs": [
    {
     "name": "stderr",
     "output_type": "stream",
     "text": [
      "/usr/local/lib/python3.7/dist-packages/ipykernel_launcher.py:2: FutureWarning: The default value of regex will change from True to False in a future version.\n",
      "  \n"
     ]
    }
   ],
   "source": [
    "# remove digits\n",
    "df['preprocessed_plot'] = df['preprocessed_plot'].str.replace('\\d+', '')"
   ]
  },
  {
   "cell_type": "code",
   "execution_count": 67,
   "metadata": {
    "colab": {
     "base_uri": "https://localhost:8080/"
    },
    "id": "vDgI3DU5LpYV",
    "outputId": "eda5f5c7-4746-4c97-82b7-d0274d40e318"
   },
   "outputs": [
    {
     "name": "stdout",
     "output_type": "stream",
     "text": [
      "[nltk_data] Downloading package stopwords to /root/nltk_data...\n",
      "[nltk_data]   Package stopwords is already up-to-date!\n",
      "[nltk_data] Downloading package punkt to /root/nltk_data...\n",
      "[nltk_data]   Package punkt is already up-to-date!\n"
     ]
    }
   ],
   "source": [
    "# remove stopwords\n",
    "import nltk\n",
    "nltk.download('stopwords')\n",
    "from nltk.corpus import stopwords\n",
    "from nltk.tokenize import word_tokenize, sent_tokenize\n",
    "nltk.download('punkt')\n",
    "stop_words = set(stopwords.words('english'))\n",
    "df['preprocessed_plot'] = df['preprocessed_plot'].apply(lambda x: ' '.join([word for word in word_tokenize(x) if word not in (stop_words)]))"
   ]
  },
  {
   "cell_type": "code",
   "execution_count": 68,
   "metadata": {
    "id": "FW4gVVXolJ9F"
   },
   "outputs": [],
   "source": [
    "# remove \"see full summary\"\n",
    "df['preprocessed_plot'] = df['preprocessed_plot'].str.replace('see full summary', '')"
   ]
  },
  {
   "cell_type": "code",
   "execution_count": 69,
   "metadata": {
    "colab": {
     "base_uri": "https://localhost:8080/"
    },
    "id": "0PxiFaPjRGUO",
    "outputId": "04bf48e9-ad87-49ef-e238-047cf915c61b"
   },
   "outputs": [
    {
     "name": "stdout",
     "output_type": "stream",
     "text": [
      "[nltk_data] Downloading package wordnet to /root/nltk_data...\n",
      "[nltk_data]   Package wordnet is already up-to-date!\n"
     ]
    }
   ],
   "source": [
    "# lemmatization\n",
    "\n",
    "from nltk.stem import WordNetLemmatizer\n",
    "nltk.download('wordnet')\n",
    "lemmatizer = WordNetLemmatizer()\n",
    "df['preprocessed_plot'] = df['preprocessed_plot'].apply(lambda x: \" \".join([lemmatizer.lemmatize(i) for i in word_tokenize(x)]))\n",
    "# df['plot'][0]"
   ]
  },
  {
   "cell_type": "code",
   "execution_count": 70,
   "metadata": {
    "colab": {
     "base_uri": "https://localhost:8080/"
    },
    "id": "M7QPbgcoTP_H",
    "outputId": "74984165-4ac2-4df7-9614-590c6d6e8d1f"
   },
   "outputs": [
    {
     "name": "stdout",
     "output_type": "stream",
     "text": [
      "[('life', 4634), ('young', 3082), ('find', 2565), ('story', 2490), ('world', 2405), ('new', 2389), ('year', 2367), ('woman', 2270), ('family', 2252), ('one', 2198)]\n"
     ]
    }
   ],
   "source": [
    "# count unique words\n",
    "\n",
    "from collections import Counter\n",
    "\n",
    "results = Counter()\n",
    "df['preprocessed_plot'].apply(word_tokenize).apply(results.update)\n",
    "print(results.most_common()[:10])"
   ]
  },
  {
   "cell_type": "code",
   "execution_count": 71,
   "metadata": {
    "id": "-s11AcFxidFY"
   },
   "outputs": [],
   "source": [
    "# stats\n",
    "unique_words_after_preprocessed = len(results)\n",
    "all_words_after_preprocessed = sum(results.values())\n",
    "sentence_count = df['plot'].apply(sent_tokenize).apply(len).sum()\n",
    "all_words = df['plot'].apply(word_tokenize).apply(len).sum()"
   ]
  },
  {
   "cell_type": "code",
   "execution_count": 72,
   "metadata": {
    "colab": {
     "base_uri": "https://localhost:8080/",
     "height": 81
    },
    "id": "RAj786QQjWsK",
    "outputId": "28ae7f1f-bfce-4675-fcd9-1fc0f7601129"
   },
   "outputs": [
    {
     "data": {
      "text/html": [
       "\n",
       "  <div id=\"df-ce4d38f5-ef76-4da3-b407-1b74659c0831\">\n",
       "    <div class=\"colab-df-container\">\n",
       "      <div>\n",
       "<style scoped>\n",
       "    .dataframe tbody tr th:only-of-type {\n",
       "        vertical-align: middle;\n",
       "    }\n",
       "\n",
       "    .dataframe tbody tr th {\n",
       "        vertical-align: top;\n",
       "    }\n",
       "\n",
       "    .dataframe thead th {\n",
       "        text-align: right;\n",
       "    }\n",
       "</style>\n",
       "<table border=\"1\" class=\"dataframe\">\n",
       "  <thead>\n",
       "    <tr style=\"text-align: right;\">\n",
       "      <th></th>\n",
       "      <th>all_words</th>\n",
       "      <th>sentence_count</th>\n",
       "      <th>all_words_after_preprocessed</th>\n",
       "      <th>unique_words_after_preprocessed</th>\n",
       "    </tr>\n",
       "  </thead>\n",
       "  <tbody>\n",
       "    <tr>\n",
       "      <th>0</th>\n",
       "      <td>919703</td>\n",
       "      <td>42560</td>\n",
       "      <td>476183</td>\n",
       "      <td>34247</td>\n",
       "    </tr>\n",
       "  </tbody>\n",
       "</table>\n",
       "</div>\n",
       "      <button class=\"colab-df-convert\" onclick=\"convertToInteractive('df-ce4d38f5-ef76-4da3-b407-1b74659c0831')\"\n",
       "              title=\"Convert this dataframe to an interactive table.\"\n",
       "              style=\"display:none;\">\n",
       "        \n",
       "  <svg xmlns=\"http://www.w3.org/2000/svg\" height=\"24px\"viewBox=\"0 0 24 24\"\n",
       "       width=\"24px\">\n",
       "    <path d=\"M0 0h24v24H0V0z\" fill=\"none\"/>\n",
       "    <path d=\"M18.56 5.44l.94 2.06.94-2.06 2.06-.94-2.06-.94-.94-2.06-.94 2.06-2.06.94zm-11 1L8.5 8.5l.94-2.06 2.06-.94-2.06-.94L8.5 2.5l-.94 2.06-2.06.94zm10 10l.94 2.06.94-2.06 2.06-.94-2.06-.94-.94-2.06-.94 2.06-2.06.94z\"/><path d=\"M17.41 7.96l-1.37-1.37c-.4-.4-.92-.59-1.43-.59-.52 0-1.04.2-1.43.59L10.3 9.45l-7.72 7.72c-.78.78-.78 2.05 0 2.83L4 21.41c.39.39.9.59 1.41.59.51 0 1.02-.2 1.41-.59l7.78-7.78 2.81-2.81c.8-.78.8-2.07 0-2.86zM5.41 20L4 18.59l7.72-7.72 1.47 1.35L5.41 20z\"/>\n",
       "  </svg>\n",
       "      </button>\n",
       "      \n",
       "  <style>\n",
       "    .colab-df-container {\n",
       "      display:flex;\n",
       "      flex-wrap:wrap;\n",
       "      gap: 12px;\n",
       "    }\n",
       "\n",
       "    .colab-df-convert {\n",
       "      background-color: #E8F0FE;\n",
       "      border: none;\n",
       "      border-radius: 50%;\n",
       "      cursor: pointer;\n",
       "      display: none;\n",
       "      fill: #1967D2;\n",
       "      height: 32px;\n",
       "      padding: 0 0 0 0;\n",
       "      width: 32px;\n",
       "    }\n",
       "\n",
       "    .colab-df-convert:hover {\n",
       "      background-color: #E2EBFA;\n",
       "      box-shadow: 0px 1px 2px rgba(60, 64, 67, 0.3), 0px 1px 3px 1px rgba(60, 64, 67, 0.15);\n",
       "      fill: #174EA6;\n",
       "    }\n",
       "\n",
       "    [theme=dark] .colab-df-convert {\n",
       "      background-color: #3B4455;\n",
       "      fill: #D2E3FC;\n",
       "    }\n",
       "\n",
       "    [theme=dark] .colab-df-convert:hover {\n",
       "      background-color: #434B5C;\n",
       "      box-shadow: 0px 1px 3px 1px rgba(0, 0, 0, 0.15);\n",
       "      filter: drop-shadow(0px 1px 2px rgba(0, 0, 0, 0.3));\n",
       "      fill: #FFFFFF;\n",
       "    }\n",
       "  </style>\n",
       "\n",
       "      <script>\n",
       "        const buttonEl =\n",
       "          document.querySelector('#df-ce4d38f5-ef76-4da3-b407-1b74659c0831 button.colab-df-convert');\n",
       "        buttonEl.style.display =\n",
       "          google.colab.kernel.accessAllowed ? 'block' : 'none';\n",
       "\n",
       "        async function convertToInteractive(key) {\n",
       "          const element = document.querySelector('#df-ce4d38f5-ef76-4da3-b407-1b74659c0831');\n",
       "          const dataTable =\n",
       "            await google.colab.kernel.invokeFunction('convertToInteractive',\n",
       "                                                     [key], {});\n",
       "          if (!dataTable) return;\n",
       "\n",
       "          const docLinkHtml = 'Like what you see? Visit the ' +\n",
       "            '<a target=\"_blank\" href=https://colab.research.google.com/notebooks/data_table.ipynb>data table notebook</a>'\n",
       "            + ' to learn more about interactive tables.';\n",
       "          element.innerHTML = '';\n",
       "          dataTable['output_type'] = 'display_data';\n",
       "          await google.colab.output.renderOutput(dataTable, element);\n",
       "          const docLink = document.createElement('div');\n",
       "          docLink.innerHTML = docLinkHtml;\n",
       "          element.appendChild(docLink);\n",
       "        }\n",
       "      </script>\n",
       "    </div>\n",
       "  </div>\n",
       "  "
      ],
      "text/plain": [
       "   all_words  sentence_count  all_words_after_preprocessed  \\\n",
       "0     919703           42560                        476183   \n",
       "\n",
       "   unique_words_after_preprocessed  \n",
       "0                            34247  "
      ]
     },
     "execution_count": 72,
     "metadata": {},
     "output_type": "execute_result"
    }
   ],
   "source": [
    "stats = pd.DataFrame(data={'all_words': [all_words], 'sentence_count': [sentence_count],\n",
    "                      'all_words_after_preprocessed': [all_words_after_preprocessed],\n",
    "                      'unique_words_after_preprocessed': [unique_words_after_preprocessed]})\n",
    "stats"
   ]
  },
  {
   "cell_type": "code",
   "execution_count": 73,
   "metadata": {
    "colab": {
     "base_uri": "https://localhost:8080/",
     "height": 500
    },
    "id": "KZ6P5WMh1S89",
    "outputId": "e74ff1d8-f57f-4993-8419-3e38fea4884b"
   },
   "outputs": [
    {
     "data": {
      "text/plain": [
       "<BarContainer object of 20 artists>"
      ]
     },
     "execution_count": 73,
     "metadata": {},
     "output_type": "execute_result"
    },
    {
     "data": {
      "image/png": "[encoded data removed]",
      "text/plain": [
       "<Figure size 1080x576 with 1 Axes>"
      ]
     },
     "metadata": {
      "needs_background": "light"
     },
     "output_type": "display_data"
    }
   ],
   "source": [
    "# plt.hist(results.most_common()[:5])\n",
    "# results.most_common\n",
    "plt.figure(figsize=(15, 8))\n",
    "plt.bar((lambda x: [i[0] for i in x])(results.most_common()[:20]), (lambda x: [i[1] for i in x])(results.most_common()[:20]))"
   ]
  },
  {
   "cell_type": "code",
   "execution_count": 74,
   "metadata": {
    "id": "D0f5d6agEWkh"
   },
   "outputs": [],
   "source": [
    "df.to_csv('../data/cleaned/cleaned_data.csv', index=False)"
   ]
  },
  {
   "cell_type": "code",
   "execution_count": 74,
   "metadata": {
    "id": "ecGAUojvGZZ5"
   },
   "outputs": [],
   "source": []
  }
 ],
 "metadata": {
  "colab": {
   "name": "preprocess_data.ipynb",
   "provenance": [],
   "toc_visible": true
  },
  "kernelspec": {
   "display_name": "Python 3 (ipykernel)",
   "language": "python",
   "name": "python3"
  },
  "language_info": {
   "codemirror_mode": {
    "name": "ipython",
    "version": 3
   },
   "file_extension": ".py",
   "mimetype": "text/x-python",
   "name": "python",
   "nbconvert_exporter": "python",
   "pygments_lexer": "ipython3",
   "version": "3.8.10"
  }
 },
 "nbformat": 4,
 "nbformat_minor": 4
}
